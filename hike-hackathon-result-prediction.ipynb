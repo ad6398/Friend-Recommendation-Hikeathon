{
 "cells": [
  {
   "cell_type": "code",
   "execution_count": 1,
   "metadata": {
    "_cell_guid": "b1076dfc-b9ad-4769-8c92-a6c4dae69d19",
    "_uuid": "8f2839f25d086af736a60e9eeb907d3b93b6e0e5"
   },
   "outputs": [
    {
     "name": "stdout",
     "output_type": "stream",
     "text": [
      "['hike-hackathon-main', 'fork-of-hike-hackathon-main-dl-after-84-4', 'hike-hackathon']\n"
     ]
    }
   ],
   "source": [
    "# This Python 3 environment comes with many helpful analytics libraries installed\n",
    "# It is defined by the kaggle/python docker image: https://github.com/kaggle/docker-python\n",
    "# For example, here's several helpful packages to load in \n",
    "\n",
    "import numpy as np # linear algebra\n",
    "import pandas as pd # data processing, CSV file I/O (e.g. pd.read_csv)\n",
    "\n",
    "# Input data files are available in the \"../input/\" directory.\n",
    "# For example, running this (by clicking run or pressing Shift+Enter) will list the files in the input directory\n",
    "\n",
    "import os\n",
    "print(os.listdir(\"../input\"))\n",
    "\n",
    "# Any results you write to the current directory are saved as output."
   ]
  },
  {
   "cell_type": "code",
   "execution_count": 2,
   "metadata": {
    "_cell_guid": "79c7e3d0-c299-4dcb-8224-4455121ee9b0",
    "_uuid": "d629ff2d2480ee46fbb7e2d37f6b5fab8052498a"
   },
   "outputs": [
    {
     "name": "stderr",
     "output_type": "stream",
     "text": [
      "Using TensorFlow backend.\n"
     ]
    }
   ],
   "source": [
    "from keras.models import model_from_json"
   ]
  },
  {
   "cell_type": "code",
   "execution_count": 3,
   "metadata": {
    "_cell_guid": "79c7e3d0-c299-4dcb-8224-4455121ee9b0",
    "_uuid": "d629ff2d2480ee46fbb7e2d37f6b5fab8052498a"
   },
   "outputs": [
    {
     "name": "stdout",
     "output_type": "stream",
     "text": [
      "WARNING:tensorflow:From /opt/conda/lib/python3.6/site-packages/tensorflow/python/framework/op_def_library.py:263: colocate_with (from tensorflow.python.framework.ops) is deprecated and will be removed in a future version.\n",
      "Instructions for updating:\n",
      "Colocations handled automatically by placer.\n"
     ]
    }
   ],
   "source": [
    "json_file = open('../input/fork-of-hike-hackathon-main-dl-after-84-4/modeldl.json', 'r')\n",
    "loaded_model_json = json_file.read()\n",
    "json_file.close()\n",
    "loaded_model = model_from_json(loaded_model_json)\n",
    "# load weights into new model\n",
    "loaded_model.load_weights(\"../input/fork-of-hike-hackathon-main-dl-after-84-4/modeldl.h5\")"
   ]
  },
  {
   "cell_type": "code",
   "execution_count": 4,
   "metadata": {},
   "outputs": [],
   "source": [
    "from keras.utils import to_categorical\n",
    "from tqdm import tqdm"
   ]
  },
  {
   "cell_type": "code",
   "execution_count": 5,
   "metadata": {},
   "outputs": [],
   "source": [
    "def make_matr(lst1, lst2):\n",
    "    l1=np.asarray(lst1[1:-1].split(),dtype=int)\n",
    "    l2=np.asarray(lst2[1:-1].split(),dtype=int)\n",
    "    l1= np.concatenate((l1[0:-1],to_categorical(l1[-1],num_classes=16)), axis=0)\n",
    "    l2= np.concatenate((l2[0:-1],to_categorical(l2[-1],num_classes=16)), axis=0)\n",
    "    return np.concatenate((l1,l2))"
   ]
  },
  {
   "cell_type": "code",
   "execution_count": 6,
   "metadata": {},
   "outputs": [],
   "source": [
    "data= pd.read_csv(\"../input/hike-hackathon/test_merged_uf.csv\")"
   ]
  },
  {
   "cell_type": "code",
   "execution_count": 7,
   "metadata": {},
   "outputs": [],
   "source": [
    "r1= len(data['node1'])/3\n",
    "r2= len(data['node1'])*2/3\n"
   ]
  },
  {
   "cell_type": "code",
   "execution_count": 8,
   "metadata": {},
   "outputs": [
    {
     "name": "stdout",
     "output_type": "stream",
     "text": [
      "3925656.0 7851312.0\n"
     ]
    }
   ],
   "source": [
    "print(r1,r2)"
   ]
  },
  {
   "cell_type": "code",
   "execution_count": 9,
   "metadata": {},
   "outputs": [],
   "source": [
    "data['is_chat']= None"
   ]
  },
  {
   "cell_type": "code",
   "execution_count": 10,
   "metadata": {},
   "outputs": [],
   "source": [
    "\n",
    "def prediction_result(s,e):\n",
    "    mat=[]\n",
    "    for i in tqdm(range(s,e)):\n",
    "        mat.append(make_matr(data['node1'][i], data['node2'][i]))\n",
    "    mat= np.asmatrix(mat,dtype=int)\n",
    "    ans=loaded_model.predict_proba(mat)\n",
    "    return ans;\n",
    "    "
   ]
  },
  {
   "cell_type": "code",
   "execution_count": 11,
   "metadata": {
    "_kg_hide-input": false,
    "_kg_hide-output": false
   },
   "outputs": [
    {
     "name": "stderr",
     "output_type": "stream",
     "text": [
      "100%|██████████| 3925656/3925656 [06:48<00:00, 9598.81it/s]\n",
      " 87%|████████▋ | 3400933/3925656 [05:50<00:52, 9981.54it/s]"
     ]
    }
   ],
   "source": [
    "a1=prediction_result(0,int(r1))\n",
    "a2=prediction_result(int(r1),int(r2))\n",
    "a3=prediction_result(int(r2), len(data['node1']))"
   ]
  },
  {
   "cell_type": "code",
   "execution_count": 12,
   "metadata": {},
   "outputs": [],
   "source": [
    "ans= np.concatenate((a1,a2,a3))"
   ]
  },
  {
   "cell_type": "code",
   "execution_count": 13,
   "metadata": {},
   "outputs": [],
   "source": [
    "data['is_chat']=ans"
   ]
  },
  {
   "cell_type": "code",
   "execution_count": 14,
   "metadata": {},
   "outputs": [],
   "source": [
    "# for i in tqdm(range(0,int(r1))):\n",
    "#     data['is_chat'][i]=a1[i]\n",
    "#     data['is_chat'][i+r1]=a2[i]\n",
    "#     data['is_chat'][i+r2]=a3[i]"
   ]
  },
  {
   "cell_type": "code",
   "execution_count": 15,
   "metadata": {},
   "outputs": [],
   "source": [
    "res= data[['id','is_chat']]"
   ]
  },
  {
   "cell_type": "code",
   "execution_count": 16,
   "metadata": {},
   "outputs": [
    {
     "data": {
      "text/plain": [
       "pandas.core.frame.DataFrame"
      ]
     },
     "execution_count": 16,
     "metadata": {},
     "output_type": "execute_result"
    }
   ],
   "source": [
    "type(res)"
   ]
  },
  {
   "cell_type": "code",
   "execution_count": 17,
   "metadata": {},
   "outputs": [
    {
     "data": {
      "text/plain": [
       "0.165836    117600\n",
       "0.566956     93388\n",
       "0.142026     40065\n",
       "0.122536     37910\n",
       "0.059196     29630\n",
       "0.248221     12441\n",
       "0.244868     11481\n",
       "0.304619     11376\n",
       "0.221399      9851\n",
       "0.314893      9794\n",
       "0.320064      9768\n",
       "0.179065      7884\n",
       "0.038149      7608\n",
       "0.268970      7207\n",
       "0.258442      7108\n",
       "0.181079      7071\n",
       "0.054540      6563\n",
       "0.542911      6227\n",
       "0.041506      5776\n",
       "0.387891      5728\n",
       "0.176616      5702\n",
       "0.396147      5685\n",
       "0.433902      5501\n",
       "0.040334      5166\n",
       "0.897085      5098\n",
       "0.699428      5054\n",
       "0.407498      4330\n",
       "0.194034      4307\n",
       "0.074652      4107\n",
       "0.267759      4031\n",
       "             ...  \n",
       "0.224066         1\n",
       "0.224084         1\n",
       "0.444872         1\n",
       "0.592214         1\n",
       "0.804960         1\n",
       "0.224085         1\n",
       "0.223215         1\n",
       "0.134048         1\n",
       "0.166715         1\n",
       "0.444873         1\n",
       "0.224084         1\n",
       "0.444874         1\n",
       "0.224084         1\n",
       "0.223214         1\n",
       "0.224085         1\n",
       "0.444874         1\n",
       "0.224067         1\n",
       "0.150879         1\n",
       "0.036870         1\n",
       "0.224086         1\n",
       "0.310671         1\n",
       "0.142157         1\n",
       "0.125140         1\n",
       "0.166715         1\n",
       "0.166544         1\n",
       "0.224086         1\n",
       "0.166716         1\n",
       "0.146970         1\n",
       "0.415937         1\n",
       "0.104476         1\n",
       "Name: is_chat, Length: 6511446, dtype: int64"
      ]
     },
     "execution_count": 17,
     "metadata": {},
     "output_type": "execute_result"
    }
   ],
   "source": [
    "res['is_chat'].value_counts()"
   ]
  },
  {
   "cell_type": "code",
   "execution_count": 18,
   "metadata": {},
   "outputs": [],
   "source": [
    "res.to_csv(\"Submission1.csv\", sep=\",\", index=False)"
   ]
  }
 ],
 "metadata": {
  "kernelspec": {
   "display_name": "Python 3",
   "language": "python",
   "name": "python3"
  },
  "language_info": {
   "codemirror_mode": {
    "name": "ipython",
    "version": 3
   },
   "file_extension": ".py",
   "mimetype": "text/x-python",
   "name": "python",
   "nbconvert_exporter": "python",
   "pygments_lexer": "ipython3",
   "version": "3.6.4"
  }
 },
 "nbformat": 4,
 "nbformat_minor": 1
}
